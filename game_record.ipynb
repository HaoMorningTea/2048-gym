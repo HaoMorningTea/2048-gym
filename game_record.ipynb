{
 "cells": [
  {
   "cell_type": "code",
   "execution_count": null,
   "metadata": {},
   "outputs": [],
   "source": [
    "import pandas as pd\n",
    "import matplotlib as plt\n",
    "from sqlalchemy import create_engine\n",
    "import numpy as np\n",
    "\n",
    "# Create a database engine\n",
    "engine = create_engine('sqlite:///game_stat_record.db')\n",
    "\n",
    "# SQL query\n",
    "query = \"SELECT * FROM game_stats\"\n",
    "\n",
    "# Load data into a DataFrame\n",
    "df = pd.read_sql(query, con=engine)\n",
    "\n",
    "# Display the DataFrame\n",
    "print(df)\n",
    "\n",
    "win_percentage = [[df['id'][i],df['win_percentage'][i]] for i in range(df['id'].size)]\n",
    "win_percentage = np.array(df['id'])\n",
    "\n",
    "plt.plot(win_percentage[:,0], win_percentage[:,1], label='Winning Rate')\n"
   ]
  }
 ],
 "metadata": {
  "language_info": {
   "name": "python"
  }
 },
 "nbformat": 4,
 "nbformat_minor": 2
}
